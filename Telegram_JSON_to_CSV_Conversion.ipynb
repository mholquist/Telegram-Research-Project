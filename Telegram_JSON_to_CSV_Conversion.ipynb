{
 "cells": [
  {
   "cell_type": "markdown",
   "id": "86a82aa9",
   "metadata": {},
   "source": [
    "# Telegram Webscraping:\n",
    "### Reading raw data in, filtering for date, and saving as a final CSV\n",
    "#### Meghan Holquist"
   ]
  },
  {
   "cell_type": "code",
   "execution_count": 1,
   "id": "cfe37d3b",
   "metadata": {},
   "outputs": [],
   "source": [
    "import pandas as pd\n",
    "import numpy as np\n",
    "import datetime"
   ]
  },
  {
   "cell_type": "code",
   "execution_count": 4,
   "id": "ebd71838",
   "metadata": {},
   "outputs": [
    {
     "name": "stdout",
     "output_type": "stream",
     "text": [
      "missing_channel_1.json failed\n",
      "missing_channel_2.json failed\n",
      "missing_channel_3.json failed\n",
      "missing_channel_4.json failed\n",
      "missing_channel_5.json failed\n"
     ]
    }
   ],
   "source": [
    "#read in the first file to create an initial df\n",
    "df = pd.read_json('channel_message_0.json')\n",
    "\n",
    "# Fill channel_list with the URLs\n",
    "channel_list = ['https://t.me/truexanewsua','https://t.me/yurasumy', 'https://t.me/u_now',\n",
    "                'https://t.me/voynareal', 'https://t.me/insiderUKR', 'https://t.me/UaOnlii',\n",
    "                'https://t.me/oko_ua1', 'https://t.me/lachentyt', 'https://t.me/+4kAkN49IKJBhZDk6',\n",
    "                'https://t.me/+U3r_kPBc7PpgiYP7', 'https://t.me/+V8VPwRkVmO9mODBi', 'https://t.me/ASupersharij',\n",
    "                'https://t.me/V_Zelenskiy_official', 'https://t.me/TCH_channel', 'https://t.me/kievreal1',\n",
    "                'https://t.me/legitimniy', 'https://t.me/bozhejakekonchene', 'https://t.me/rezident_ua',\n",
    "                'https://t.me/UkraineNow', 'https://t.me/ukraina_novosti', 'https://t.me/+aAaZ8kQkkpo2ZjRi',\n",
    "                'https://t.me/mykolaivskaODA', 'https://t.me/xydessa', 'https://t.me/alarmukraine',\n",
    "                'https://t.me/+_osZLpRD48c3ODYy', 'https://t.me/+gFCT63NlnfE5YWZi',  'https://t.me/+3sUd12FqwxliYWY6',\n",
    "                'https://t.me/RKadyrov_95', 'https://t.me/novosti_voinaa', 'https://t.me/rian_ru',\n",
    "                'https://t.me/leoday', 'https://t.me/+AzFt2ITq9hg3ZjQy', 'https://t.me/+B4-55MTTqXs0MzEy',\n",
    "                'https://t.me/breakingmash', 'https://t.me/readovkanews', 'https://t.me/+GvivdThlMX1jZjRi',\n",
    "                'https://t.me/kino_hd2', 'https://t.me/+7W2WZ9ZFhapmMTRi', 'https://t.me/bbbreaking',\n",
    "                'https://t.me/ostorozhno_novosti', 'https://t.me/+_e4kuJNgtuphZTFi', 'https://t.me/SolovievLive',\n",
    "                'https://t.me/litvintm', 'https://t.me/wargonzo', 'https://t.me/moscowmap',\n",
    "                'https://t.me/bloodysx', 'https://t.me/meduzalive', 'https://t.me/maslennikovliga',\n",
    "                'https://t.me/topor', 'https://t.me/RVvoenkor']\n",
    "\n",
    "#loop through the files and try to read them then append to df\n",
    "#doing this in case any of your channels didn't scrape\n",
    "for i in range(1, len(channel_list)):\n",
    "    file_name = f'channel_message_{i}.json'\n",
    "    try:\n",
    "        df1 = pd.read_json(file_name)\n",
    "        df = df.append(df1)\n",
    "    except:\n",
    "        print(f'channel_message_{i}.json failed')"
   ]
  },
  {
   "cell_type": "code",
   "execution_count": 7,
   "id": "60e209cf",
   "metadata": {},
   "outputs": [
    {
     "data": {
      "text/plain": [
       "(1600740, 32)"
      ]
     },
     "execution_count": 7,
     "metadata": {},
     "output_type": "execute_result"
    }
   ],
   "source": [
    "#making a copy and checking shape\n",
    "df_original = df\n",
    "df_copy = df_original.copy()\n",
    "df_copy.shape"
   ]
  },
  {
   "cell_type": "code",
   "execution_count": 15,
   "id": "3687b65d",
   "metadata": {},
   "outputs": [
    {
     "name": "stdout",
     "output_type": "stream",
     "text": [
      "Final Number of Rows:  902641\n"
     ]
    }
   ],
   "source": [
    "#Make sure the date is formatted properly\n",
    "df_copy['date'] = pd.to_datetime(df_copy['date'], format='%Y-%m-%d')\n",
    "\n",
    "#filter out the date to be in the range we want \n",
    "df_test1 = df_copy.loc[(df_copy['date'] >= '2022-02-24')\n",
    "                     & (df_copy['date'] < '2023-02-12')]\n",
    "\n",
    "#save as a final dataset\n",
    "filtered_df = df_test1\n",
    "\n",
    "print('Final Number of Rows: ', filtered_df.shape[0])"
   ]
  },
  {
   "cell_type": "code",
   "execution_count": 14,
   "id": "6f238be6",
   "metadata": {},
   "outputs": [],
   "source": [
    "#Convert to a csv\n",
    "filtered_df.to_csv('final_channel_dataframe.csv')"
   ]
  }
 ],
 "metadata": {
  "kernelspec": {
   "display_name": "Python 3 (ipykernel)",
   "language": "python",
   "name": "python3"
  },
  "language_info": {
   "codemirror_mode": {
    "name": "ipython",
    "version": 3
   },
   "file_extension": ".py",
   "mimetype": "text/x-python",
   "name": "python",
   "nbconvert_exporter": "python",
   "pygments_lexer": "ipython3",
   "version": "3.9.12"
  }
 },
 "nbformat": 4,
 "nbformat_minor": 5
}
